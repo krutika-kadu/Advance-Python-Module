{
 "cells": [
  {
   "cell_type": "markdown",
   "metadata": {},
   "source": [
    "## Decorators"
   ]
  },
  {
   "cell_type": "code",
   "execution_count": 110,
   "metadata": {},
   "outputs": [],
   "source": [
    "def multiply(x:int|float, y:int|float):\n",
    "    '''\n",
    "    Takes 2 input parameters as x and y\n",
    "    '''\n",
    "    prod = x*y\n",
    "    return prod"
   ]
  },
  {
   "cell_type": "code",
   "execution_count": 111,
   "metadata": {},
   "outputs": [
    {
     "data": {
      "text/plain": [
       "10.35"
      ]
     },
     "execution_count": 111,
     "metadata": {},
     "output_type": "execute_result"
    }
   ],
   "source": [
    "multiply(2.3,4.5)"
   ]
  },
  {
   "cell_type": "code",
   "execution_count": 112,
   "metadata": {},
   "outputs": [
    {
     "data": {
      "text/plain": [
       "[1, 1, 1]"
      ]
     },
     "execution_count": 112,
     "metadata": {},
     "output_type": "execute_result"
    }
   ],
   "source": [
    "multiply([1],3)"
   ]
  },
  {
   "cell_type": "code",
   "execution_count": 113,
   "metadata": {},
   "outputs": [
    {
     "data": {
      "text/plain": [
       "[1, 1, 1]"
      ]
     },
     "execution_count": 113,
     "metadata": {},
     "output_type": "execute_result"
    }
   ],
   "source": [
    "[1]*3"
   ]
  },
  {
   "cell_type": "code",
   "execution_count": 114,
   "metadata": {},
   "outputs": [
    {
     "data": {
      "text/plain": [
       "'aaa'"
      ]
     },
     "execution_count": 114,
     "metadata": {},
     "output_type": "execute_result"
    }
   ],
   "source": [
    "multiply('a',3)"
   ]
  },
  {
   "cell_type": "code",
   "execution_count": 115,
   "metadata": {},
   "outputs": [],
   "source": [
    "# multiply('a',[1]) -- to ignore this erroR\n",
    "# and string multipication we use ENSURE_ANNOTATIONS"
   ]
  },
  {
   "cell_type": "code",
   "execution_count": 116,
   "metadata": {},
   "outputs": [
    {
     "name": "stdout",
     "output_type": "stream",
     "text": [
      "Requirement already satisfied: ensure in e:\\krutika\\advance python\\repository\\venv\\lib\\site-packages (1.0.4)\n",
      "Requirement already satisfied: six>=1.11.0 in e:\\krutika\\advance python\\repository\\venv\\lib\\site-packages (from ensure) (1.17.0)\n",
      "Note: you may need to restart the kernel to use updated packages.\n"
     ]
    }
   ],
   "source": [
    "pip install ensure"
   ]
  },
  {
   "cell_type": "code",
   "execution_count": 117,
   "metadata": {},
   "outputs": [],
   "source": [
    "from ensure import ensure_annotations"
   ]
  },
  {
   "cell_type": "code",
   "execution_count": 118,
   "metadata": {},
   "outputs": [],
   "source": [
    "## restart and run all cells"
   ]
  },
  {
   "cell_type": "code",
   "execution_count": 119,
   "metadata": {},
   "outputs": [],
   "source": [
    "@ensure_annotations\n",
    "def multiply_2 (x:int|float,y:int|float):\n",
    "    '''\n",
    "    Takes 2 input parameters as x and y\n",
    "    '''\n",
    "    prod = x*y\n",
    "    return prod"
   ]
  },
  {
   "cell_type": "code",
   "execution_count": 120,
   "metadata": {},
   "outputs": [
    {
     "data": {
      "text/plain": [
       "23.45"
      ]
     },
     "execution_count": 120,
     "metadata": {},
     "output_type": "execute_result"
    }
   ],
   "source": [
    "multiply_2(3.5,6.7)"
   ]
  },
  {
   "cell_type": "code",
   "execution_count": 121,
   "metadata": {},
   "outputs": [],
   "source": [
    "#multiply_2('a',3)"
   ]
  },
  {
   "cell_type": "markdown",
   "metadata": {},
   "source": [
    "### Syntax to create a Decorator:\n",
    "    def decorator_name(function):\n",
    "        def wrapper(*args,**kwargs):\n",
    "            define the purpose of decorator here\n",
    "            result = function(*args,**kwargs)\n",
    "            return result\n",
    "        return wrapper"
   ]
  },
  {
   "cell_type": "code",
   "execution_count": 122,
   "metadata": {},
   "outputs": [],
   "source": [
    "def welcome(func):\n",
    "    def wrapper(*args,**kwargs):\n",
    "        print(\"Hi, Welcome to the page.\")\n",
    "        result = func(*args,**kwargs)\n",
    "        print(\"Thankyou for using this function\")\n",
    "        return result\n",
    "    return wrapper"
   ]
  },
  {
   "cell_type": "code",
   "execution_count": 123,
   "metadata": {},
   "outputs": [],
   "source": [
    "@welcome\n",
    "def simple_interest(p,n,r):\n",
    "    return (p*n*r)/100"
   ]
  },
  {
   "cell_type": "code",
   "execution_count": 124,
   "metadata": {},
   "outputs": [],
   "source": [
    "@welcome\n",
    "@ensure_annotations\n",
    "def multiply_3 (x:int|float,y:int|float):\n",
    "    '''\n",
    "    Takes 2 input parameters as x and y\n",
    "    '''\n",
    "    prod = x*y\n",
    "    return prod"
   ]
  },
  {
   "cell_type": "code",
   "execution_count": 125,
   "metadata": {},
   "outputs": [
    {
     "name": "stdout",
     "output_type": "stream",
     "text": [
      "Hi, Welcome to the page.\n",
      "Thankyou for using this function\n"
     ]
    },
    {
     "data": {
      "text/plain": [
       "5000.0"
      ]
     },
     "execution_count": 125,
     "metadata": {},
     "output_type": "execute_result"
    }
   ],
   "source": [
    "simple_interest(25000,5,4)"
   ]
  },
  {
   "cell_type": "code",
   "execution_count": 126,
   "metadata": {},
   "outputs": [
    {
     "name": "stdout",
     "output_type": "stream",
     "text": [
      "Hi, Welcome to the page.\n",
      "Thankyou for using this function\n",
      "5000.0\n"
     ]
    }
   ],
   "source": [
    "si = simple_interest(25000,5,4)\n",
    "print(si)"
   ]
  },
  {
   "cell_type": "code",
   "execution_count": 127,
   "metadata": {},
   "outputs": [
    {
     "name": "stdout",
     "output_type": "stream",
     "text": [
      "Hi, Welcome to the page.\n",
      "Thankyou for using this function\n",
      "272205\n"
     ]
    }
   ],
   "source": [
    "m1 = multiply_3(345,789)\n",
    "print(m1)"
   ]
  },
  {
   "cell_type": "code",
   "execution_count": 128,
   "metadata": {},
   "outputs": [],
   "source": [
    "# m2 = multiply_3('a',3)\n",
    "#print(m2)"
   ]
  },
  {
   "cell_type": "markdown",
   "metadata": {},
   "source": [
    "### Function Performance Checker Scenarrio"
   ]
  },
  {
   "cell_type": "code",
   "execution_count": 129,
   "metadata": {},
   "outputs": [],
   "source": [
    "list_nums = [23,45,67,89,102,135,167]"
   ]
  },
  {
   "cell_type": "code",
   "execution_count": 130,
   "metadata": {},
   "outputs": [],
   "source": [
    "def generate_squares(list_data:list):\n",
    "    sq_lst = []\n",
    "    for i in list_data:\n",
    "        sq_lst.append(i**2)\n",
    "    return sq_lst"
   ]
  },
  {
   "cell_type": "code",
   "execution_count": 131,
   "metadata": {},
   "outputs": [
    {
     "data": {
      "text/plain": [
       "[529, 2025, 4489, 7921, 10404, 18225, 27889]"
      ]
     },
     "execution_count": 131,
     "metadata": {},
     "output_type": "execute_result"
    }
   ],
   "source": [
    "generate_squares(list_nums)"
   ]
  },
  {
   "cell_type": "code",
   "execution_count": 132,
   "metadata": {},
   "outputs": [],
   "source": [
    "import time"
   ]
  },
  {
   "cell_type": "code",
   "execution_count": 133,
   "metadata": {},
   "outputs": [],
   "source": [
    "def performance_checker(func):\n",
    "    def wrapper(*args,**kwargs):\n",
    "        print(\"Checking the performance of this function\")\n",
    "        start = time.perf_counter()    # notes the start time\n",
    "        result = func(*args,**kwargs)  # executes the function\n",
    "        stop = time.perf_counter()     # notes the stop time\n",
    "        elapsed_time = stop-start      # calculates time taken to execute\n",
    "        print(f\"Time taken to execute this function is {elapsed_time}\")\n",
    "        return result\n",
    "    return wrapper"
   ]
  },
  {
   "cell_type": "code",
   "execution_count": 134,
   "metadata": {},
   "outputs": [],
   "source": [
    "@performance_checker\n",
    "def generate_squares(list_data:list):\n",
    "    sq_lst = []\n",
    "    for i in list_data:\n",
    "        sq_lst.append(i**2)\n",
    "    return sq_lst"
   ]
  },
  {
   "cell_type": "code",
   "execution_count": 135,
   "metadata": {},
   "outputs": [],
   "source": [
    "list_nums = [23,45,67,89,102,135,167]"
   ]
  },
  {
   "cell_type": "code",
   "execution_count": 136,
   "metadata": {},
   "outputs": [
    {
     "name": "stdout",
     "output_type": "stream",
     "text": [
      "Checking the performance of this function\n",
      "Time taken to execute this function is 6.89999433234334e-06\n",
      "[529, 2025, 4489, 7921, 10404, 18225, 27889]\n"
     ]
    }
   ],
   "source": [
    "\n",
    "sq_op = generate_squares(list_nums)\n",
    "print(sq_op)"
   ]
  },
  {
   "cell_type": "code",
   "execution_count": 137,
   "metadata": {},
   "outputs": [],
   "source": [
    "@welcome\n",
    "@performance_checker\n",
    "def simple_interest_2(p,n,r):\n",
    "    return (p*n*r)/100"
   ]
  },
  {
   "cell_type": "code",
   "execution_count": 138,
   "metadata": {},
   "outputs": [
    {
     "name": "stdout",
     "output_type": "stream",
     "text": [
      "Hi, Welcome to the page.\n",
      "Checking the performance of this function\n",
      "Time taken to execute this function is 3.7999998312443495e-06\n",
      "Thankyou for using this function\n",
      "27650.0\n"
     ]
    }
   ],
   "source": [
    "si_2 = simple_interest_2(35000,10,7.9)\n",
    "print(si_2)"
   ]
  },
  {
   "cell_type": "markdown",
   "metadata": {},
   "source": [
    "### Authentication Scenario"
   ]
  },
  {
   "cell_type": "code",
   "execution_count": 139,
   "metadata": {},
   "outputs": [],
   "source": [
    "# create a dictionary containing username as keys and password as values\n",
    "users = {\n",
    "    \"Thaman\":\"Th@Man23\",\n",
    "    \"Suman\":\"S#M45an\",\n",
    "    \"Naman\":\"N$%12amn\",\n",
    "    \"Baman\":\"b#09Mtr\"\n",
    "}"
   ]
  },
  {
   "cell_type": "code",
   "execution_count": 140,
   "metadata": {},
   "outputs": [
    {
     "data": {
      "text/plain": [
       "dict_keys(['Thaman', 'Suman', 'Naman', 'Baman'])"
      ]
     },
     "execution_count": 140,
     "metadata": {},
     "output_type": "execute_result"
    }
   ],
   "source": [
    "users.keys()"
   ]
  },
  {
   "cell_type": "code",
   "execution_count": 141,
   "metadata": {},
   "outputs": [
    {
     "data": {
      "text/plain": [
       "dict_values(['Th@Man23', 'S#M45an', 'N$%12amn', 'b#09Mtr'])"
      ]
     },
     "execution_count": 141,
     "metadata": {},
     "output_type": "execute_result"
    }
   ],
   "source": [
    "users.values()"
   ]
  },
  {
   "cell_type": "code",
   "execution_count": 142,
   "metadata": {},
   "outputs": [
    {
     "data": {
      "text/plain": [
       "'b#09Mtr'"
      ]
     },
     "execution_count": 142,
     "metadata": {},
     "output_type": "execute_result"
    }
   ],
   "source": [
    "users[\"Baman\"]"
   ]
  },
  {
   "cell_type": "code",
   "execution_count": 145,
   "metadata": {},
   "outputs": [],
   "source": [
    "#users[\"baman\"]"
   ]
  },
  {
   "cell_type": "code",
   "execution_count": 146,
   "metadata": {},
   "outputs": [
    {
     "data": {
      "text/plain": [
       "'b#09Mtr'"
      ]
     },
     "execution_count": 146,
     "metadata": {},
     "output_type": "execute_result"
    }
   ],
   "source": [
    "users.get(\"Baman\")"
   ]
  },
  {
   "cell_type": "code",
   "execution_count": 148,
   "metadata": {},
   "outputs": [
    {
     "name": "stdout",
     "output_type": "stream",
     "text": [
      "None\n"
     ]
    }
   ],
   "source": [
    "new = users.get(\"baman\")\n",
    "print(new)"
   ]
  },
  {
   "cell_type": "code",
   "execution_count": 149,
   "metadata": {},
   "outputs": [
    {
     "data": {
      "text/plain": [
       "{'Thaman': 'Th@Man23',\n",
       " 'Suman': 'S#M45an',\n",
       " 'Naman': 'N$%12amn',\n",
       " 'Baman': 'b#09Mtr'}"
      ]
     },
     "execution_count": 149,
     "metadata": {},
     "output_type": "execute_result"
    }
   ],
   "source": [
    "users"
   ]
  },
  {
   "cell_type": "code",
   "execution_count": 150,
   "metadata": {},
   "outputs": [
    {
     "data": {
      "text/plain": [
       "'Th@Man23'"
      ]
     },
     "execution_count": 150,
     "metadata": {},
     "output_type": "execute_result"
    }
   ],
   "source": [
    "users.get(\"Thaman\")"
   ]
  },
  {
   "cell_type": "code",
   "execution_count": 160,
   "metadata": {},
   "outputs": [],
   "source": [
    "def authentication_user(func):\n",
    "    def wrapper(username,password,*args,**kwargs):\n",
    "        if username in users.keys() and password in users.get(username):\n",
    "            print(f\"welcome . Authentication Successfull\")\n",
    "            result = func(username,password,*args,**kwargs)\n",
    "            return result\n",
    "        else:\n",
    "            print(\"Authentication Unsuccessfull.Please try again\")\n",
    "    return wrapper"
   ]
  },
  {
   "cell_type": "code",
   "execution_count": 161,
   "metadata": {},
   "outputs": [],
   "source": [
    "@authentication_user\n",
    "def simple_interest_4(username,password,p,n,r):\n",
    "    return (p*n*r)/100"
   ]
  },
  {
   "cell_type": "code",
   "execution_count": 162,
   "metadata": {},
   "outputs": [
    {
     "name": "stdout",
     "output_type": "stream",
     "text": [
      "welcome . Authentication Successfull\n",
      "7500.0\n"
     ]
    }
   ],
   "source": [
    "si2 = simple_interest_4(\"Thaman\",\"Th@Man23\",25000,5,6)\n",
    "print(si2)"
   ]
  },
  {
   "cell_type": "code",
   "execution_count": 163,
   "metadata": {},
   "outputs": [
    {
     "name": "stdout",
     "output_type": "stream",
     "text": [
      "Authentication Unsuccessfull.Please try again\n",
      "None\n"
     ]
    }
   ],
   "source": [
    "si3 = simple_interest_4(\"raman\",\"r@mAn\",45000,5,6)\n",
    "print(si3)"
   ]
  },
  {
   "cell_type": "code",
   "execution_count": 164,
   "metadata": {},
   "outputs": [
    {
     "name": "stdout",
     "output_type": "stream",
     "text": [
      "Authentication Unsuccessfull.Please try again\n",
      "None\n"
     ]
    }
   ],
   "source": [
    "\n",
    "si4 = simple_interest_4(\"Baman\",\"fdert23\",78000,7,6)\n",
    "print(si4)"
   ]
  },
  {
   "cell_type": "code",
   "execution_count": null,
   "metadata": {},
   "outputs": [],
   "source": []
  }
 ],
 "metadata": {
  "kernelspec": {
   "display_name": "venv",
   "language": "python",
   "name": "python3"
  },
  "language_info": {
   "codemirror_mode": {
    "name": "ipython",
    "version": 3
   },
   "file_extension": ".py",
   "mimetype": "text/x-python",
   "name": "python",
   "nbconvert_exporter": "python",
   "pygments_lexer": "ipython3",
   "version": "3.12.3"
  }
 },
 "nbformat": 4,
 "nbformat_minor": 2
}
