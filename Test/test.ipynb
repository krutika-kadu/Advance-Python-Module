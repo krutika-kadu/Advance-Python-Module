{
 "cells": [
  {
   "cell_type": "code",
   "execution_count": null,
   "metadata": {},
   "outputs": [
    {
     "name": "stdout",
     "output_type": "stream",
     "text": [
      "['raman', 'thaman', 'baman', 'varman', 'siraj'] [87.6, 75.9, 67.5, 45.3, 89.45]\n"
     ]
    }
   ],
   "source": [
    "st_marks = [87.6,75.9,67.5,45.3,89.45]\n",
    "st_name = [\"raman\",\"thaman\",\"baman\",\"varman\",\"siraj\"]\n",
    "print(st_name,st_marks)"
   ]
  },
  {
   "cell_type": "code",
   "execution_count": null,
   "metadata": {},
   "outputs": [],
   "source": []
  }
 ],
 "metadata": {
  "kernelspec": {
   "display_name": "venv",
   "language": "python",
   "name": "python3"
  },
  "language_info": {
   "codemirror_mode": {
    "name": "ipython",
    "version": 3
   },
   "file_extension": ".py",
   "mimetype": "text/x-python",
   "name": "python",
   "nbconvert_exporter": "python",
   "pygments_lexer": "ipython3",
   "version": "3.12.3"
  }
 },
 "nbformat": 4,
 "nbformat_minor": 2
}
