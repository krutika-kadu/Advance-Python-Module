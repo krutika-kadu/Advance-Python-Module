{
 "cells": [
  {
   "cell_type": "markdown",
   "metadata": {},
   "source": [
    "### Multi-threading"
   ]
  },
  {
   "cell_type": "code",
   "execution_count": 1,
   "metadata": {},
   "outputs": [],
   "source": [
    "import time"
   ]
  },
  {
   "cell_type": "code",
   "execution_count": 2,
   "metadata": {},
   "outputs": [],
   "source": [
    "def cube_data(num):\n",
    "    \"\"\"\n",
    "    To generate cube of a number\n",
    "    \"\"\"\n",
    "    time.sleep(5)\n",
    "    print(f\"cube of a number {num} is {num**3}\")\n",
    "    return num**3"
   ]
  },
  {
   "cell_type": "code",
   "execution_count": 3,
   "metadata": {},
   "outputs": [
    {
     "name": "stdout",
     "output_type": "stream",
     "text": [
      "cube of a number 4 is 64\n"
     ]
    },
    {
     "data": {
      "text/plain": [
       "64"
      ]
     },
     "execution_count": 3,
     "metadata": {},
     "output_type": "execute_result"
    }
   ],
   "source": [
    "cd_d = cube_data(4)\n",
    "cd_d"
   ]
  },
  {
   "cell_type": "code",
   "execution_count": 4,
   "metadata": {},
   "outputs": [],
   "source": [
    "principal = 45000\n",
    "rate = 12\n",
    "num = 10"
   ]
  },
  {
   "cell_type": "code",
   "execution_count": 5,
   "metadata": {},
   "outputs": [],
   "source": [
    "def simple_interest(p,n,r):\n",
    "    # Introducing delay in time(around 3s) with time.sleep(number of seconds)\n",
    "    time.sleep(3)\n",
    "    print(f\"Simple Interest is {(p*n*r)/100}\")\n",
    "    return (p*n*r)/100"
   ]
  },
  {
   "cell_type": "code",
   "execution_count": 6,
   "metadata": {},
   "outputs": [
    {
     "name": "stdout",
     "output_type": "stream",
     "text": [
      "Simple Interest is 54000.0\n",
      "CPU times: total: 0 ns\n",
      "Wall time: 3 s\n"
     ]
    },
    {
     "data": {
      "text/plain": [
       "54000.0"
      ]
     },
     "execution_count": 6,
     "metadata": {},
     "output_type": "execute_result"
    }
   ],
   "source": [
    "%%time\n",
    "si1 = simple_interest(principal,rate,num)\n",
    "si1"
   ]
  },
  {
   "cell_type": "code",
   "execution_count": 7,
   "metadata": {},
   "outputs": [
    {
     "name": "stdout",
     "output_type": "stream",
     "text": [
      "Simple Interest is 54000.0\n",
      "cube of a number 5 is 125\n",
      "CPU times: total: 15.6 ms\n",
      "Wall time: 5 s\n"
     ]
    }
   ],
   "source": [
    "%%time\n",
    "from threading import Thread\n",
    "th1 = Thread(target=cube_data,args=(5,))\n",
    "th2 = Thread(target=simple_interest,args=(54000,12.5,8))\n",
    "\n",
    "th1.start()\n",
    "th2.start()\n",
    "\n",
    "th1.join()\n",
    "th2.join()\n"
   ]
  },
  {
   "cell_type": "code",
   "execution_count": 8,
   "metadata": {},
   "outputs": [],
   "source": [
    "def factorial(num,results,key):\n",
    "    time.sleep(3)\n",
    "    p = 1\n",
    "    for i in range(1,num+1):\n",
    "        p = p*i\n",
    "    results[key] = p"
   ]
  },
  {
   "cell_type": "code",
   "execution_count": 9,
   "metadata": {},
   "outputs": [],
   "source": [
    "d1 = \"Raman\""
   ]
  },
  {
   "cell_type": "code",
   "execution_count": 10,
   "metadata": {},
   "outputs": [
    {
     "data": {
      "text/plain": [
       "'R'"
      ]
     },
     "execution_count": 10,
     "metadata": {},
     "output_type": "execute_result"
    }
   ],
   "source": [
    "d1[0]"
   ]
  },
  {
   "cell_type": "code",
   "execution_count": 11,
   "metadata": {},
   "outputs": [
    {
     "data": {
      "text/plain": [
       "'namaR'"
      ]
     },
     "execution_count": 11,
     "metadata": {},
     "output_type": "execute_result"
    }
   ],
   "source": [
    "d1[::-1]"
   ]
  },
  {
   "cell_type": "code",
   "execution_count": 12,
   "metadata": {},
   "outputs": [
    {
     "data": {
      "text/plain": [
       "False"
      ]
     },
     "execution_count": 12,
     "metadata": {},
     "output_type": "execute_result"
    }
   ],
   "source": [
    "d1 == d1[::-1]"
   ]
  },
  {
   "cell_type": "code",
   "execution_count": 13,
   "metadata": {},
   "outputs": [],
   "source": [
    "def palindrone(string,results,key):\n",
    "    time.sleep(4)\n",
    "    if string == string[::-1]:\n",
    "        results[key] = \"PALINDROME\"\n",
    "    else:\n",
    "        results[key] = \"NOT A PALINDROME\""
   ]
  },
  {
   "cell_type": "code",
   "execution_count": 14,
   "metadata": {},
   "outputs": [
    {
     "data": {
      "text/plain": [
       "120"
      ]
     },
     "execution_count": 14,
     "metadata": {},
     "output_type": "execute_result"
    }
   ],
   "source": [
    "results = {}\n",
    "f1 = factorial(5,results,\"factorial\")\n",
    "results[\"factorial\"]"
   ]
  },
  {
   "cell_type": "code",
   "execution_count": 15,
   "metadata": {},
   "outputs": [
    {
     "data": {
      "text/plain": [
       "'PALINDROME'"
      ]
     },
     "execution_count": 15,
     "metadata": {},
     "output_type": "execute_result"
    }
   ],
   "source": [
    "results = {}\n",
    "p1 = palindrone(\"madam\",results,\"palindrone\")\n",
    "results[\"palindrone\"]"
   ]
  },
  {
   "cell_type": "code",
   "execution_count": 19,
   "metadata": {},
   "outputs": [
    {
     "data": {
      "text/plain": [
       "'NOT A PALINDROME'"
      ]
     },
     "execution_count": 19,
     "metadata": {},
     "output_type": "execute_result"
    }
   ],
   "source": [
    "results = {}\n",
    "p2 = palindrone(\"raman\",results,\"palindrone\")\n",
    "results[\"palindrone\"]"
   ]
  },
  {
   "cell_type": "code",
   "execution_count": 21,
   "metadata": {},
   "outputs": [
    {
     "name": "stdout",
     "output_type": "stream",
     "text": [
      "Factorial results are: 3628800, palindrone results are: PALINDROME\n",
      "CPU times: total: 0 ns\n",
      "Wall time: 4 s\n"
     ]
    }
   ],
   "source": [
    "%%time\n",
    "results = {}\n",
    "th3 = Thread(target = factorial, args=(10,results,\"factorial\",))\n",
    "th4 = Thread(target = palindrone, args=(\"racecar\",results,\"palindrone\"))\n",
    "\n",
    "th3.start()\n",
    "th4.start()\n",
    "\n",
    "th3.join()\n",
    "th4.join()\n",
    "\n",
    "#print(results)\n",
    "print(f\"Factorial results are: {results[\"factorial\"]}, palindrone results are: {results[\"palindrone\"]}\")"
   ]
  },
  {
   "cell_type": "code",
   "execution_count": 23,
   "metadata": {},
   "outputs": [],
   "source": [
    "urls = [\n",
    "    \"https://raw.githubusercontent.com/utkarshg1/mlproject_regression/main/artifacts/data.csv\",\n",
    "    \"https://raw.githubusercontent.com/utkarshg1/mlproject_regression/main/artifacts/test.csv\",\n",
    "    \"https://raw.githubusercontent.com/utkarshg1/mlproject_regression/main/artifacts/train.csv\"\n",
    "]\n"
   ]
  },
  {
   "cell_type": "code",
   "execution_count": 24,
   "metadata": {},
   "outputs": [
    {
     "name": "stdout",
     "output_type": "stream",
     "text": [
      "data.csv\n",
      "test.csv\n",
      "train.csv\n"
     ]
    }
   ],
   "source": [
    "for url in urls:\n",
    "    # a = url.split('/')\n",
    "    # print(a)\n",
    "    # print(a[-1])\n",
    "    print(url.split('/')[-1])"
   ]
  },
  {
   "cell_type": "code",
   "execution_count": 25,
   "metadata": {},
   "outputs": [],
   "source": [
    "u1 = \"https://raw.githubusercontent.com/utkarshg1/mlproject_regression/main/artifacts/data.csv\""
   ]
  },
  {
   "cell_type": "code",
   "execution_count": 26,
   "metadata": {},
   "outputs": [],
   "source": [
    "from urllib.request import urlretrieve"
   ]
  },
  {
   "cell_type": "code",
   "execution_count": 27,
   "metadata": {},
   "outputs": [],
   "source": [
    "def download_data(url_link):\n",
    "    # extract filename from url links\n",
    "    file_name = url_link.split('/')[-1]\n",
    "\n",
    "    # print downloading status to user\n",
    "    print(f\"{file_name} is downloading...\")\n",
    "\n",
    "    # retrieve content from the url and copy that to filename provided\n",
    "    urlretrieve(url_link,filename=file_name)\n",
    "\n",
    "    #print downloading status to user\n",
    "    print(f\"{file_name} got downloaded\")"
   ]
  },
  {
   "cell_type": "code",
   "execution_count": 28,
   "metadata": {},
   "outputs": [
    {
     "name": "stdout",
     "output_type": "stream",
     "text": [
      "data.csv is downloading...\n",
      "data.csv got downloaded\n",
      "test.csv is downloading...\n",
      "test.csv got downloaded\n",
      "train.csv is downloading...\n",
      "train.csv got downloaded\n"
     ]
    }
   ],
   "source": [
    "for url in urls:\n",
    "    download_data(url)"
   ]
  },
  {
   "cell_type": "code",
   "execution_count": 33,
   "metadata": {},
   "outputs": [
    {
     "name": "stdout",
     "output_type": "stream",
     "text": [
      "data.csv is downloading...test.csv is downloading...\n",
      "\n",
      "train.csv is downloading...\n",
      "CPU times: total: 0 ns\n",
      "Wall time: 29.4 ms\n"
     ]
    },
    {
     "name": "stdout",
     "output_type": "stream",
     "text": [
      "train.csv got downloaded\n",
      "test.csv got downloaded\n",
      "data.csv got downloaded\n"
     ]
    }
   ],
   "source": [
    "%%time\n",
    "Threads = []\n",
    "for url in urls:\n",
    "    thread = Thread(target=download_data,args=(url,))\n",
    "    thread.start()\n",
    "\n",
    "for th in Threads:\n",
    "    th.join()"
   ]
  },
  {
   "cell_type": "code",
   "execution_count": null,
   "metadata": {},
   "outputs": [],
   "source": []
  }
 ],
 "metadata": {
  "kernelspec": {
   "display_name": "venv",
   "language": "python",
   "name": "python3"
  },
  "language_info": {
   "codemirror_mode": {
    "name": "ipython",
    "version": 3
   },
   "file_extension": ".py",
   "mimetype": "text/x-python",
   "name": "python",
   "nbconvert_exporter": "python",
   "pygments_lexer": "ipython3",
   "version": "3.12.3"
  }
 },
 "nbformat": 4,
 "nbformat_minor": 2
}
