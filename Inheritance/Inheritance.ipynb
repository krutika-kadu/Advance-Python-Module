{
 "cells": [
  {
   "cell_type": "markdown",
   "metadata": {},
   "source": [
    "### Inheritance"
   ]
  },
  {
   "cell_type": "code",
   "execution_count": 142,
   "metadata": {},
   "outputs": [],
   "source": [
    "class person:\n",
    "    def __init__(self,name,age):\n",
    "        self.name = name\n",
    "        self.age = age\n",
    "\n",
    "    def introduce(self):\n",
    "        print(f\"Hi, I am {self.name} and I am {self.age} years old\")"
   ]
  },
  {
   "cell_type": "code",
   "execution_count": 143,
   "metadata": {},
   "outputs": [],
   "source": [
    "p1 = person('Raman',45)"
   ]
  },
  {
   "cell_type": "code",
   "execution_count": 144,
   "metadata": {},
   "outputs": [
    {
     "data": {
      "text/plain": [
       "'Raman'"
      ]
     },
     "execution_count": 144,
     "metadata": {},
     "output_type": "execute_result"
    }
   ],
   "source": [
    "p1.name"
   ]
  },
  {
   "cell_type": "code",
   "execution_count": 145,
   "metadata": {},
   "outputs": [
    {
     "data": {
      "text/plain": [
       "45"
      ]
     },
     "execution_count": 145,
     "metadata": {},
     "output_type": "execute_result"
    }
   ],
   "source": [
    "p1.age"
   ]
  },
  {
   "cell_type": "code",
   "execution_count": 146,
   "metadata": {},
   "outputs": [
    {
     "name": "stdout",
     "output_type": "stream",
     "text": [
      "Hi, I am Raman and I am 45 years old\n"
     ]
    }
   ],
   "source": [
    "p1.introduce()"
   ]
  },
  {
   "cell_type": "code",
   "execution_count": 147,
   "metadata": {},
   "outputs": [],
   "source": [
    "class employee(person):\n",
    "    pass"
   ]
  },
  {
   "cell_type": "code",
   "execution_count": 148,
   "metadata": {},
   "outputs": [],
   "source": [
    "emp1 = employee('Thaman',34)\n"
   ]
  },
  {
   "cell_type": "code",
   "execution_count": 149,
   "metadata": {},
   "outputs": [
    {
     "data": {
      "text/plain": [
       "'Thaman'"
      ]
     },
     "execution_count": 149,
     "metadata": {},
     "output_type": "execute_result"
    }
   ],
   "source": [
    "emp1.name"
   ]
  },
  {
   "cell_type": "code",
   "execution_count": 150,
   "metadata": {},
   "outputs": [
    {
     "data": {
      "text/plain": [
       "34"
      ]
     },
     "execution_count": 150,
     "metadata": {},
     "output_type": "execute_result"
    }
   ],
   "source": [
    "emp1.age"
   ]
  },
  {
   "cell_type": "code",
   "execution_count": 151,
   "metadata": {},
   "outputs": [
    {
     "name": "stdout",
     "output_type": "stream",
     "text": [
      "Hi, I am Thaman and I am 34 years old\n"
     ]
    }
   ],
   "source": [
    "emp1.introduce()"
   ]
  },
  {
   "cell_type": "code",
   "execution_count": 152,
   "metadata": {},
   "outputs": [],
   "source": [
    "class employee(person):\n",
    "\n",
    "    def __init__(self,company):\n",
    "        self.company = company\n",
    "    \n",
    "    def work(self):\n",
    "        print(f\"Hi, I am working at {self.company}\")"
   ]
  },
  {
   "cell_type": "code",
   "execution_count": 153,
   "metadata": {},
   "outputs": [],
   "source": [
    "emp2 = employee(\"Wipro\")"
   ]
  },
  {
   "cell_type": "code",
   "execution_count": 154,
   "metadata": {},
   "outputs": [
    {
     "data": {
      "text/plain": [
       "'Wipro'"
      ]
     },
     "execution_count": 154,
     "metadata": {},
     "output_type": "execute_result"
    }
   ],
   "source": [
    "emp2.company"
   ]
  },
  {
   "cell_type": "code",
   "execution_count": 155,
   "metadata": {},
   "outputs": [],
   "source": [
    "#emp2.name"
   ]
  },
  {
   "cell_type": "code",
   "execution_count": 156,
   "metadata": {},
   "outputs": [],
   "source": [
    "class employee(person):\n",
    "    def __init__(self,name,age,company):\n",
    "        super().__init__(name,age)\n",
    "        self.company = company\n",
    "    \n",
    "    def work(self):\n",
    "        super().introduce()\n",
    "        print(f\"Hi, I am working at {self.company}\")"
   ]
  },
  {
   "cell_type": "code",
   "execution_count": 157,
   "metadata": {},
   "outputs": [],
   "source": [
    "emp2 = employee('Suman',38,'Accenture')"
   ]
  },
  {
   "cell_type": "code",
   "execution_count": 158,
   "metadata": {},
   "outputs": [
    {
     "data": {
      "text/plain": [
       "38"
      ]
     },
     "execution_count": 158,
     "metadata": {},
     "output_type": "execute_result"
    }
   ],
   "source": [
    "emp2.age"
   ]
  },
  {
   "cell_type": "code",
   "execution_count": 159,
   "metadata": {},
   "outputs": [
    {
     "data": {
      "text/plain": [
       "'Suman'"
      ]
     },
     "execution_count": 159,
     "metadata": {},
     "output_type": "execute_result"
    }
   ],
   "source": [
    "emp2.name"
   ]
  },
  {
   "cell_type": "code",
   "execution_count": 160,
   "metadata": {},
   "outputs": [
    {
     "name": "stdout",
     "output_type": "stream",
     "text": [
      "Hi, I am Suman and I am 38 years old\n"
     ]
    }
   ],
   "source": [
    "emp2.introduce()"
   ]
  },
  {
   "cell_type": "code",
   "execution_count": 161,
   "metadata": {},
   "outputs": [
    {
     "data": {
      "text/plain": [
       "'Accenture'"
      ]
     },
     "execution_count": 161,
     "metadata": {},
     "output_type": "execute_result"
    }
   ],
   "source": [
    "emp2.company"
   ]
  },
  {
   "cell_type": "code",
   "execution_count": 162,
   "metadata": {},
   "outputs": [
    {
     "name": "stdout",
     "output_type": "stream",
     "text": [
      "Hi, I am Suman and I am 38 years old\n",
      "Hi, I am working at Accenture\n"
     ]
    }
   ],
   "source": [
    "emp2.work()"
   ]
  },
  {
   "cell_type": "markdown",
   "metadata": {},
   "source": [
    "### Hierarchal Inheritance"
   ]
  },
  {
   "cell_type": "code",
   "execution_count": 163,
   "metadata": {},
   "outputs": [],
   "source": [
    "# parent class\n",
    "class grave_hyundai:\n",
    "\n",
    "    def __init__(self,name,location):\n",
    "        self.name = name\n",
    "        self.location = location\n",
    "    \n",
    "    def greeting(self):\n",
    "        print(f\"Hello {self.name} sir/madam. Welcome to our showroom\")\n",
    "\n",
    "    def models_info(self):\n",
    "        print(f\"We have latset models avaialble at our showroom like Grand i10 and Grand i20\")"
   ]
  },
  {
   "cell_type": "code",
   "execution_count": 164,
   "metadata": {},
   "outputs": [],
   "source": [
    "# child class : child1\n",
    "class grandi10(grave_hyundai):\n",
    "\n",
    "    def __init__(self,name,location,price_range):\n",
    "        super().__init__(name,location)\n",
    "        self.price_range = price_range\n",
    "    \n",
    "    def enquiry_price(self):\n",
    "        super().greeting()\n",
    "        print(f\"Features of this model are ..... and on-road price is 10 lakhs\")\n",
    "        if self.price_range > 10:\n",
    "            print(f\"Please check our best models falling under the same range : Grand i20\")\n",
    "        \n",
    "    def enquiry_models(self):\n",
    "        super().models_info()\n"
   ]
  },
  {
   "cell_type": "code",
   "execution_count": 165,
   "metadata": {},
   "outputs": [],
   "source": [
    "# child class: child2\n",
    "class grandi20(grave_hyundai):\n",
    "\n",
    "    def __init__(self, name, location, price_range):\n",
    "        super().__init__(name, location)\n",
    "        self.price_range = price_range\n",
    "\n",
    "    def enquiry_price(self):\n",
    "        super().greeting()\n",
    "        print(f\"Features of this model are .... and on-road price is 15 Lakhs\")\n",
    "\n",
    "    def enquiry_models(self):\n",
    "        super().models_info()"
   ]
  },
  {
   "cell_type": "code",
   "execution_count": 166,
   "metadata": {},
   "outputs": [],
   "source": [
    "gi10_1 = grandi10(\"Baman\", \"Wakad\",12)"
   ]
  },
  {
   "cell_type": "code",
   "execution_count": 167,
   "metadata": {},
   "outputs": [
    {
     "data": {
      "text/plain": [
       "12"
      ]
     },
     "execution_count": 167,
     "metadata": {},
     "output_type": "execute_result"
    }
   ],
   "source": [
    "gi10_1.price_range"
   ]
  },
  {
   "cell_type": "code",
   "execution_count": 168,
   "metadata": {},
   "outputs": [
    {
     "data": {
      "text/plain": [
       "'Baman'"
      ]
     },
     "execution_count": 168,
     "metadata": {},
     "output_type": "execute_result"
    }
   ],
   "source": [
    "gi10_1.name"
   ]
  },
  {
   "cell_type": "code",
   "execution_count": 169,
   "metadata": {},
   "outputs": [
    {
     "data": {
      "text/plain": [
       "'Wakad'"
      ]
     },
     "execution_count": 169,
     "metadata": {},
     "output_type": "execute_result"
    }
   ],
   "source": [
    "gi10_1.location"
   ]
  },
  {
   "cell_type": "code",
   "execution_count": 170,
   "metadata": {},
   "outputs": [
    {
     "name": "stdout",
     "output_type": "stream",
     "text": [
      "Hello Baman sir/madam. Welcome to our showroom\n",
      "Features of this model are ..... and on-road price is 10 lakhs\n",
      "Please check our best models falling under the same range : Grand i20\n"
     ]
    }
   ],
   "source": [
    "gi10_1.enquiry_price()"
   ]
  },
  {
   "cell_type": "code",
   "execution_count": 171,
   "metadata": {},
   "outputs": [],
   "source": [
    "gi10_2 = grandi10('naman','rahatani',8)"
   ]
  },
  {
   "cell_type": "code",
   "execution_count": 172,
   "metadata": {},
   "outputs": [
    {
     "name": "stdout",
     "output_type": "stream",
     "text": [
      "Hello naman sir/madam. Welcome to our showroom\n",
      "Features of this model are ..... and on-road price is 10 lakhs\n"
     ]
    }
   ],
   "source": [
    "gi10_2.enquiry_price()"
   ]
  },
  {
   "cell_type": "code",
   "execution_count": 173,
   "metadata": {},
   "outputs": [
    {
     "name": "stdout",
     "output_type": "stream",
     "text": [
      "We have latset models avaialble at our showroom like Grand i10 and Grand i20\n"
     ]
    }
   ],
   "source": [
    "gi10_1.enquiry_models()"
   ]
  },
  {
   "cell_type": "code",
   "execution_count": 174,
   "metadata": {},
   "outputs": [],
   "source": [
    "gi20_1 = grandi20('chaman','kalewadi',14)"
   ]
  },
  {
   "cell_type": "code",
   "execution_count": 175,
   "metadata": {},
   "outputs": [
    {
     "data": {
      "text/plain": [
       "'chaman'"
      ]
     },
     "execution_count": 175,
     "metadata": {},
     "output_type": "execute_result"
    }
   ],
   "source": [
    "\n",
    "gi20_1.name"
   ]
  },
  {
   "cell_type": "code",
   "execution_count": 176,
   "metadata": {},
   "outputs": [
    {
     "name": "stdout",
     "output_type": "stream",
     "text": [
      "Hello chaman sir/madam. Welcome to our showroom\n"
     ]
    }
   ],
   "source": [
    "\n",
    "# parent class methods\n",
    "gi20_1.greeting()"
   ]
  },
  {
   "cell_type": "code",
   "execution_count": 177,
   "metadata": {},
   "outputs": [
    {
     "name": "stdout",
     "output_type": "stream",
     "text": [
      "We have latset models avaialble at our showroom like Grand i10 and Grand i20\n"
     ]
    }
   ],
   "source": [
    "# parent class methods\n",
    "gi20_1.models_info()"
   ]
  },
  {
   "cell_type": "code",
   "execution_count": 178,
   "metadata": {},
   "outputs": [
    {
     "name": "stdout",
     "output_type": "stream",
     "text": [
      "Hello chaman sir/madam. Welcome to our showroom\n",
      "Features of this model are .... and on-road price is 15 Lakhs\n"
     ]
    }
   ],
   "source": [
    "# method of respective class\n",
    "gi20_1.enquiry_price()"
   ]
  },
  {
   "cell_type": "code",
   "execution_count": 179,
   "metadata": {},
   "outputs": [
    {
     "name": "stdout",
     "output_type": "stream",
     "text": [
      "We have latset models avaialble at our showroom like Grand i10 and Grand i20\n"
     ]
    }
   ],
   "source": [
    "# method of respective class\n",
    "gi20_1.enquiry_models()"
   ]
  },
  {
   "cell_type": "markdown",
   "metadata": {},
   "source": [
    "### Multi level Inheritance"
   ]
  },
  {
   "cell_type": "code",
   "execution_count": 180,
   "metadata": {},
   "outputs": [],
   "source": [
    "# parent class\n",
    "class Employee:\n",
    "\n",
    "    def __init__(self,name,employeeid):\n",
    "        self.name = name\n",
    "        self.employeeid = employeeid\n",
    "        \n",
    "    def get_employee_info(self):\n",
    "        return f\"Name: {self.name}, Employee ID: {self.employeeid}\""
   ]
  },
  {
   "cell_type": "code",
   "execution_count": 181,
   "metadata": {},
   "outputs": [],
   "source": [
    "# child class, parent is Employee class\n",
    "class Manager(Employee):\n",
    "\n",
    "    def __init__(self, name, employeeid, department):\n",
    "        super().__init__(name,employeeid)\n",
    "        self.department = department\n",
    "\n",
    "    def get_manager_info(self):\n",
    "        #self.info = super().get_employee_info()\n",
    "        return f\"{self.get_employee_info()}, Department: {self.department}\""
   ]
  },
  {
   "cell_type": "code",
   "execution_count": 182,
   "metadata": {},
   "outputs": [],
   "source": [
    "# child class, parent: Manager\n",
    "class ProjectManager(Manager):\n",
    "\n",
    "    def __init__(self, name, employeeid, department, project):\n",
    "        super().__init__(name, employeeid, department)\n",
    "        self.project = project\n",
    "        \n",
    "    def get_project_info(self):\n",
    "        return f\"{self.get_manager_info()}, Project: {self.project}\""
   ]
  },
  {
   "cell_type": "code",
   "execution_count": 183,
   "metadata": {},
   "outputs": [],
   "source": [
    "manager1 = Manager('Raman',12678,'IT')"
   ]
  },
  {
   "cell_type": "code",
   "execution_count": 184,
   "metadata": {},
   "outputs": [
    {
     "data": {
      "text/plain": [
       "'Name: Raman, Employee ID: 12678'"
      ]
     },
     "execution_count": 184,
     "metadata": {},
     "output_type": "execute_result"
    }
   ],
   "source": [
    "emp_data = manager1.get_employee_info()\n",
    "emp_data"
   ]
  },
  {
   "cell_type": "code",
   "execution_count": 185,
   "metadata": {},
   "outputs": [
    {
     "data": {
      "text/plain": [
       "'Name: Raman, Employee ID: 12678, Department: IT'"
      ]
     },
     "execution_count": 185,
     "metadata": {},
     "output_type": "execute_result"
    }
   ],
   "source": [
    "emp_dept_data = manager1.get_manager_info()\n",
    "emp_dept_data"
   ]
  },
  {
   "cell_type": "code",
   "execution_count": 186,
   "metadata": {},
   "outputs": [],
   "source": [
    "project_manager = ProjectManager('Priya',891234,'Sales','Sales90')"
   ]
  },
  {
   "cell_type": "code",
   "execution_count": 187,
   "metadata": {},
   "outputs": [
    {
     "data": {
      "text/plain": [
       "'Name: Priya, Employee ID: 891234, Department: Sales, Project: Sales90'"
      ]
     },
     "execution_count": 187,
     "metadata": {},
     "output_type": "execute_result"
    }
   ],
   "source": [
    "emp_project_data = project_manager.get_project_info()\n",
    "emp_project_data"
   ]
  },
  {
   "cell_type": "markdown",
   "metadata": {},
   "source": [
    "### Hybrid Inheritance\n",
    "\n",
    "    2 parents and a single child\n",
    "\n",
    "    class skating:\n",
    "        def __init__(self,name):\n",
    "            self.name = name\n",
    "        \n",
    "        def req_skating(self):\n",
    "            print(f\"Hi {self.name}. We provide basic skating gears. please bring safety gears from your side\")\n",
    "\n",
    "    class basketball:\n",
    "        def __init__(self):\n",
    "            pass\n",
    "        def req_baketball(self):\n",
    "            print(f\"Hi  We provide basketball. please wear sports uniform for this game\")\n",
    "\n",
    "    class student(skating,basketball):\n",
    "        pass\n"
   ]
  },
  {
   "cell_type": "code",
   "execution_count": 188,
   "metadata": {},
   "outputs": [],
   "source": [
    "class skating:\n",
    "    def __init__(self,name):\n",
    "        self.name = name\n",
    "    def req_skating(self):\n",
    "        print(f\"Hi {self.name}. We provide basic skating gears. Please bring safety gears from your side\")"
   ]
  },
  {
   "cell_type": "code",
   "execution_count": 189,
   "metadata": {},
   "outputs": [],
   "source": [
    "class basketball:\n",
    "    def __init__(self):\n",
    "        pass\n",
    "    def req_basketball(self):\n",
    "        print(f\"Hi, We provide basketball. Please wear shorts uniform for this game\")"
   ]
  },
  {
   "cell_type": "code",
   "execution_count": 190,
   "metadata": {},
   "outputs": [],
   "source": [
    "class student(skating, basketball):\n",
    "    pass\n"
   ]
  },
  {
   "cell_type": "code",
   "execution_count": 191,
   "metadata": {},
   "outputs": [],
   "source": [
    "student1 = student('Thaman')"
   ]
  },
  {
   "cell_type": "code",
   "execution_count": 192,
   "metadata": {},
   "outputs": [
    {
     "data": {
      "text/plain": [
       "'Thaman'"
      ]
     },
     "execution_count": 192,
     "metadata": {},
     "output_type": "execute_result"
    }
   ],
   "source": [
    "student1.name"
   ]
  },
  {
   "cell_type": "code",
   "execution_count": 193,
   "metadata": {},
   "outputs": [
    {
     "name": "stdout",
     "output_type": "stream",
     "text": [
      "Hi Thaman. We provide basic skating gears. Please bring safety gears from your side\n"
     ]
    }
   ],
   "source": [
    "student1.req_skating()"
   ]
  },
  {
   "cell_type": "code",
   "execution_count": 194,
   "metadata": {},
   "outputs": [
    {
     "name": "stdout",
     "output_type": "stream",
     "text": [
      "Hi, We provide basketball. Please wear shorts uniform for this game\n"
     ]
    }
   ],
   "source": [
    "student1.req_basketball()"
   ]
  },
  {
   "cell_type": "markdown",
   "metadata": {},
   "source": [
    "    class a:\n",
    "        def greeting_a():\n",
    "            print(\"hi a\")\n",
    "\n",
    "    class b(a):\n",
    "        def greeting_b():\n",
    "            print(\"hello b\")\n",
    "\n",
    "    class c(b,a):\n",
    "        def welcome():\n",
    "            print(\"Welcome to class c\")\n",
    "\n",
    "    c_obj = c\n",
    "    c.greeting_a()\n",
    "    c.greeting_b()\n",
    "    c.welcome() "
   ]
  },
  {
   "cell_type": "code",
   "execution_count": 196,
   "metadata": {},
   "outputs": [],
   "source": [
    "class a:\n",
    "    def greeting_a():\n",
    "        print(\"Hi a\")"
   ]
  },
  {
   "cell_type": "code",
   "execution_count": 197,
   "metadata": {},
   "outputs": [],
   "source": [
    "class b(a):\n",
    "    def greeting_b():\n",
    "        print(\"Hello b\")"
   ]
  },
  {
   "cell_type": "code",
   "execution_count": 199,
   "metadata": {},
   "outputs": [],
   "source": [
    "class c(b,a):\n",
    "    pass"
   ]
  },
  {
   "cell_type": "code",
   "execution_count": 200,
   "metadata": {},
   "outputs": [
    {
     "ename": "TypeError",
     "evalue": "Cannot create a consistent method resolution\norder (MRO) for bases a, b",
     "output_type": "error",
     "traceback": [
      "\u001b[31m---------------------------------------------------------------------------\u001b[39m",
      "\u001b[31mTypeError\u001b[39m                                 Traceback (most recent call last)",
      "\u001b[36mCell\u001b[39m\u001b[36m \u001b[39m\u001b[32mIn[200]\u001b[39m\u001b[32m, line 1\u001b[39m\n\u001b[32m----> \u001b[39m\u001b[32m1\u001b[39m \u001b[38;5;28;43;01mclass\u001b[39;49;00m\u001b[38;5;250;43m \u001b[39;49m\u001b[34;43;01mc\u001b[39;49;00m\u001b[43m(\u001b[49m\u001b[43ma\u001b[49m\u001b[43m,\u001b[49m\u001b[43mb\u001b[49m\u001b[43m)\u001b[49m\u001b[43m:\u001b[49m\n\u001b[32m      2\u001b[39m \u001b[43m    \u001b[49m\u001b[38;5;28;43;01mpass\u001b[39;49;00m\n",
      "\u001b[31mTypeError\u001b[39m: Cannot create a consistent method resolution\norder (MRO) for bases a, b"
     ]
    }
   ],
   "source": [
    "class c(a,b):\n",
    "    pass"
   ]
  },
  {
   "cell_type": "code",
   "execution_count": 201,
   "metadata": {},
   "outputs": [],
   "source": [
    "c1 = c()"
   ]
  },
  {
   "cell_type": "code",
   "execution_count": 203,
   "metadata": {},
   "outputs": [
    {
     "ename": "TypeError",
     "evalue": "a.greeting_a() takes 0 positional arguments but 1 was given",
     "output_type": "error",
     "traceback": [
      "\u001b[31m---------------------------------------------------------------------------\u001b[39m",
      "\u001b[31mTypeError\u001b[39m                                 Traceback (most recent call last)",
      "\u001b[36mCell\u001b[39m\u001b[36m \u001b[39m\u001b[32mIn[203]\u001b[39m\u001b[32m, line 1\u001b[39m\n\u001b[32m----> \u001b[39m\u001b[32m1\u001b[39m \u001b[43mc1\u001b[49m\u001b[43m.\u001b[49m\u001b[43mgreeting_a\u001b[49m\u001b[43m(\u001b[49m\u001b[43m)\u001b[49m\n",
      "\u001b[31mTypeError\u001b[39m: a.greeting_a() takes 0 positional arguments but 1 was given"
     ]
    }
   ],
   "source": [
    "c1.greeting_a()"
   ]
  },
  {
   "cell_type": "code",
   "execution_count": 204,
   "metadata": {},
   "outputs": [],
   "source": [
    "c2 = c"
   ]
  },
  {
   "cell_type": "code",
   "execution_count": 205,
   "metadata": {},
   "outputs": [
    {
     "name": "stdout",
     "output_type": "stream",
     "text": [
      "Hi a\n"
     ]
    }
   ],
   "source": [
    "c2.greeting_a()"
   ]
  },
  {
   "cell_type": "code",
   "execution_count": 207,
   "metadata": {},
   "outputs": [
    {
     "name": "stdout",
     "output_type": "stream",
     "text": [
      "Hello b\n"
     ]
    }
   ],
   "source": [
    "c2.greeting_b()"
   ]
  },
  {
   "cell_type": "code",
   "execution_count": 208,
   "metadata": {},
   "outputs": [],
   "source": [
    "class c(b,a):\n",
    "    def welcome():\n",
    "        print(\"Welcome to class c\")"
   ]
  },
  {
   "cell_type": "code",
   "execution_count": 209,
   "metadata": {},
   "outputs": [],
   "source": [
    "c3 = c"
   ]
  },
  {
   "cell_type": "code",
   "execution_count": 210,
   "metadata": {},
   "outputs": [
    {
     "name": "stdout",
     "output_type": "stream",
     "text": [
      "Hello b\n"
     ]
    }
   ],
   "source": [
    "c3.greeting_b()"
   ]
  },
  {
   "cell_type": "code",
   "execution_count": 211,
   "metadata": {},
   "outputs": [
    {
     "name": "stdout",
     "output_type": "stream",
     "text": [
      "Hi a\n"
     ]
    }
   ],
   "source": [
    "c3.greeting_a()"
   ]
  },
  {
   "cell_type": "code",
   "execution_count": 212,
   "metadata": {},
   "outputs": [
    {
     "name": "stdout",
     "output_type": "stream",
     "text": [
      "Welcome to class c\n"
     ]
    }
   ],
   "source": [
    "c3.welcome()"
   ]
  },
  {
   "cell_type": "code",
   "execution_count": null,
   "metadata": {},
   "outputs": [],
   "source": []
  }
 ],
 "metadata": {
  "kernelspec": {
   "display_name": "venv",
   "language": "python",
   "name": "python3"
  },
  "language_info": {
   "codemirror_mode": {
    "name": "ipython",
    "version": 3
   },
   "file_extension": ".py",
   "mimetype": "text/x-python",
   "name": "python",
   "nbconvert_exporter": "python",
   "pygments_lexer": "ipython3",
   "version": "3.12.3"
  }
 },
 "nbformat": 4,
 "nbformat_minor": 2
}
